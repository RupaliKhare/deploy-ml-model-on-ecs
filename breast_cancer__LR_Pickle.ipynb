{
 "cells": [
  {
   "cell_type": "markdown",
   "metadata": {
    "id": "UvGQSIs7l4tQ"
   },
   "source": [
    "# Predicting Breast Cancer Using LogisticRegression"
   ]
  },
  {
   "cell_type": "code",
   "execution_count": null,
   "metadata": {},
   "outputs": [],
   "source": [
    "#Importing \n",
    "import numpy as np  \n",
    "import pandas as pd\n",
    "import matplotlib.pyplot as plt\n",
    "import sklearn\n",
    "import seaborn as sns\n",
    "from sklearn.linear_model import LogisticRegression\n",
    "from sklearn.model_selection import train_test_split\n",
    "from sklearn.preprocessing import StandardScaler\n",
    "from sklearn.metrics import classification_report,accuracy_score, confusion_matrix\n"
   ]
  },
  {
   "cell_type": "markdown",
   "metadata": {
    "id": "9f9iAYio49xS"
   },
   "source": [
    "## Reading the dataset"
   ]
  },
  {
   "cell_type": "code",
   "execution_count": null,
   "metadata": {},
   "outputs": [],
   "source": [
    "#Reading dataset\n",
    "df = pd.read_csv('data.csv')\n",
    "df.head(5)"
   ]
  },
  {
   "cell_type": "code",
   "execution_count": null,
   "metadata": {},
   "outputs": [],
   "source": [
    "print(df.shape)"
   ]
  },
  {
   "cell_type": "markdown",
   "metadata": {
    "id": "tDDT8DcQ5DBt"
   },
   "source": [
    "### Columns/Variables in the dataset"
   ]
  },
  {
   "cell_type": "code",
   "execution_count": null,
   "metadata": {},
   "outputs": [],
   "source": [
    "df.columns"
   ]
  },
  {
   "cell_type": "markdown",
   "metadata": {
    "id": "eYF7Q_QvnJmy"
   },
   "source": [
    "The above dataset has 33 columns."
   ]
  },
  {
   "cell_type": "code",
   "execution_count": null,
   "metadata": {},
   "outputs": [],
   "source": [
    "df.info()"
   ]
  },
  {
   "cell_type": "markdown",
   "metadata": {
    "id": "zNJXQah1ppa_"
   },
   "source": [
    "#### The column 32(Unnamed:32) has all NULL values and can be removed"
   ]
  },
  {
   "cell_type": "code",
   "execution_count": null,
   "metadata": {},
   "outputs": [],
   "source": [
    "df.rename({\"Unnamed: 32\":\"a\"}, axis=\"columns\", inplace=True)\n",
    "df.drop([\"a\"], axis=1, inplace=True)\n",
    "df.head(3)"
   ]
  },
  {
   "cell_type": "markdown",
   "metadata": {
    "id": "wmRWDIR5qY0a"
   },
   "source": [
    "### Target variable diagnosis is a categorial variable M: Malignant, B: Benign. It is changed to M:1, B:0"
   ]
  },
  {
   "cell_type": "code",
   "execution_count": null,
   "metadata": {},
   "outputs": [],
   "source": [
    "df['diagnosis'] = df['diagnosis'].apply(lambda x : '1' if x == 'M' else '0')\n",
    "df = df.set_index('id')\n",
    "df.head(3)"
   ]
  },
  {
   "cell_type": "markdown",
   "metadata": {
    "id": "sU0GW6Y_-w-e"
   },
   "source": [
    "After removing Unnamed:32 column and makind id column as an index label the dataset has 31 columns/variables(including target variable)"
   ]
  },
  {
   "cell_type": "code",
   "execution_count": null,
   "metadata": {},
   "outputs": [],
   "source": [
    "print(len(df.columns))"
   ]
  },
  {
   "cell_type": "markdown",
   "metadata": {
    "id": "wlgb_Tua4yCK"
   },
   "source": [
    "## Number of benign and malignant observations"
   ]
  },
  {
   "cell_type": "code",
   "execution_count": null,
   "metadata": {},
   "outputs": [],
   "source": [
    "# Number of Benign and Malignant observations\n",
    "benign,malignant = df['diagnosis'].value_counts()\n",
    "print(\"Number of Benign patients\", benign)\n",
    "print(\"Number of Malignant patients\", malignant)\n",
    "\n",
    "plt.figure(figsize = (8,4))\n",
    "sns.countplot(df['diagnosis'])"
   ]
  },
  {
   "cell_type": "code",
   "execution_count": null,
   "metadata": {},
   "outputs": [],
   "source": [
    "y = df['diagnosis'].values # Target variable\n",
    "X = df.drop('diagnosis', axis =1).values # Feature variables"
   ]
  },
  {
   "cell_type": "markdown",
   "metadata": {
    "id": "ygEWPtsz4PAS"
   },
   "source": [
    "## Spliting data into train and test sets"
   ]
  },
  {
   "cell_type": "code",
   "execution_count": null,
   "metadata": {},
   "outputs": [],
   "source": [
    "#splitting dataset\n",
    "X_train, X_test, y_train, y_test = train_test_split(X,y,test_size = 0.2, random_state = 20)\n",
    "print(X_train.shape)\n",
    "print(X_test.shape)\n",
    "print(y_train.shape)\n",
    "print(y_test.shape)\n"
   ]
  },
  {
   "cell_type": "markdown",
   "metadata": {
    "id": "grAtPeP84Hl1"
   },
   "source": [
    "## Data Normalization/ Feature Scaling"
   ]
  },
  {
   "cell_type": "code",
   "execution_count": null,
   "metadata": {},
   "outputs": [],
   "source": [
    "# Normalization\n",
    "sc = StandardScaler()\n",
    "X_train_sc = sc.fit_transform(X_train)\n",
    "X_test_sc = sc.fit_transform(X_test)\n",
    "print(X_train_sc)"
   ]
  },
  {
   "cell_type": "markdown",
   "metadata": {
    "id": "RwMEykki5aeH"
   },
   "source": [
    "## Buiding Logistic Regression"
   ]
  },
  {
   "cell_type": "code",
   "execution_count": null,
   "metadata": {},
   "outputs": [],
   "source": [
    "# fitting model\n",
    "model = LogisticRegression(C = 0.3)\n",
    "model.fit(X_train_sc, y_train)\n"
   ]
  },
  {
   "cell_type": "code",
   "execution_count": null,
   "metadata": {},
   "outputs": [],
   "source": [
    "X_test_sc[0]"
   ]
  },
  {
   "cell_type": "markdown",
   "metadata": {
    "id": "5ISraNJr8KeE"
   },
   "source": [
    "## Predicting"
   ]
  },
  {
   "cell_type": "code",
   "execution_count": null,
   "metadata": {},
   "outputs": [],
   "source": [
    "# predicting\n",
    "y_pred_lr = model.predict(X_test_sc)\n",
    "accuracy_lr = accuracy_score(y_test,y_pred_lr)\n",
    "print(\"Accuracy on Test Data:\",accuracy_lr)"
   ]
  },
  {
   "cell_type": "markdown",
   "metadata": {
    "id": "iRiXzhMiW72n"
   },
   "source": [
    "## Confusion matrix"
   ]
  },
  {
   "cell_type": "code",
   "execution_count": null,
   "metadata": {},
   "outputs": [],
   "source": [
    "confusion_matrix(y_test,y_pred_lr)\n",
    "lr_cm = confusion_matrix(y_test, y_pred_lr)\n",
    "lr_cm = pd.DataFrame(lr_cm, columns=['Benign', 'Malignant'], index=['Benign','Malignant'])\n",
    "lr_cm"
   ]
  },
  {
   "cell_type": "markdown",
   "metadata": {},
   "source": [
    "## Classification report"
   ]
  },
  {
   "cell_type": "code",
   "execution_count": null,
   "metadata": {},
   "outputs": [],
   "source": [
    "print(classification_report(y_test, y_pred_lr))"
   ]
  },
  {
   "cell_type": "code",
   "execution_count": null,
   "metadata": {},
   "outputs": [],
   "source": [
    "import pickle\n",
    "with open('./model.pkl', 'wb') as model_pkl:\n",
    "    pickle.dump(model, model_pkl)"
   ]
  },
  {
   "cell_type": "code",
   "execution_count": null,
   "metadata": {},
   "outputs": [],
   "source": []
  }
 ],
 "metadata": {
  "accelerator": "GPU",
  "colab": {
   "collapsed_sections": [],
   "name": "full_breast_cancer.ipynb",
   "provenance": [
    {
     "file_id": "1dPupaPpvx6rhmyXtEfJlpggnggKjpDaR",
     "timestamp": 1609199889199
    },
    {
     "file_id": "1YYH-qtiiJkE2B_hBltIhj_pdL-xNDyoa",
     "timestamp": 1609045471001
    }
   ]
  },
  "kernelspec": {
   "display_name": "Python 3",
   "language": "python",
   "name": "python3"
  },
  "language_info": {
   "codemirror_mode": {
    "name": "ipython",
    "version": 3
   },
   "file_extension": ".py",
   "mimetype": "text/x-python",
   "name": "python",
   "nbconvert_exporter": "python",
   "pygments_lexer": "ipython3",
   "version": "3.7.4"
  }
 },
 "nbformat": 4,
 "nbformat_minor": 4
}
